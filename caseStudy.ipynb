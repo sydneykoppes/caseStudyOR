{
 "cells": [
  {
   "cell_type": "code",
   "execution_count": null,
   "metadata": {},
   "outputs": [],
   "source": [
    "import numpy as np"
   ]
  },
  {
   "cell_type": "code",
   "execution_count": null,
   "metadata": {},
   "outputs": [],
   "source": [
    "def reading_txt_constants(txt_file,constant):\n",
    "    z = open(txt_file,\"r\")\n",
    "    contents = z.readlines()\n",
    "    for i in range((len(contents))):\n",
    "        if constant in contents[i]:\n",
    "            return (int(contents[i].split(\"\\n\")[0].split(\"=\")[1]))\n",
    "    z.close() "
   ]
  },
  {
   "cell_type": "code",
   "execution_count": null,
   "metadata": {},
   "outputs": [],
   "source": [
    "file = \"VeRoLog_r100d5_1.txt\"\n",
    "\n",
    "Days = reading_txt_constants(file,'DAYS')\n",
    "Capacity = reading_txt_constants(file,'CAPACITY')\n",
    "Max_distance = reading_txt_constants(file,'MAX_TRIP_DISTANCE')\n",
    "Depot_index = reading_txt_constants(file,'DEPOT_COORDINATE')\n",
    "Vehicle_cost = reading_txt_constants(file,'VEHICLE_COST')\n",
    "Vehicle_cost_per_day = reading_txt_constants(file,'VEHICLE_DAY_COST')\n",
    "Vehicle_cost_per_distance = reading_txt_constants(file,'DISTANCE_COST')\n",
    "\n",
    "Tools = reading_txt_constants(file,'TOOLS')\n",
    "Clients = reading_txt_constants(file,'COORDINATES')\n",
    "Requests = reading_txt_constants(file,'REQUESTS')\n",
    "\n",
    "print(Days,Capacity,Max_distance,Depot_index,Vehicle_cost,Vehicle_cost_per_day,Vehicle_cost_per_distance,Tools,Clients,Requests)\n"
   ]
  },
  {
   "cell_type": "code",
   "execution_count": null,
   "metadata": {},
   "outputs": [],
   "source": [
    "def matrix_of_data(file,type_of_data,number_of_data,number_of_data_per_line):\n",
    "    start_of_data = None\n",
    "    matrix = np.zeros((number_of_data,number_of_data_per_line))\n",
    "  \n",
    "    q = open(file)\n",
    "    contents = q.readlines()\n",
    "    for i in range((len(contents))):\n",
    "        if type_of_data in contents[i]:\n",
    "            start_of_data = i\n",
    "    \n",
    "    data_range = contents[(start_of_data+1):(start_of_data+1+number_of_data)]\n",
    "    \n",
    "\n",
    "    for i in range(len(data_range)):\n",
    "        data_line = data_range[i].split(\"\\n\")[0].split(\"\\t\")\n",
    "        for j in range(len(data_line)):\n",
    "            matrix[i,j] = int(data_line[j])\n",
    "            \n",
    "    q.close()\n",
    "    return matrix"
   ]
  },
  {
   "cell_type": "code",
   "execution_count": null,
   "metadata": {},
   "outputs": [],
   "source": [
    "tool_data = matrix_of_data(file,\"TOOLS\",Tools,4)\n",
    "coordinate_data = matrix_of_data(file,\"COORDINATES\",Clients,3)\n",
    "request_data = matrix_of_data(file,\"REQUESTS\",Requests,7)\n",
    "\n",
    "print(tool_data,\"\\n\\n\",coordinate_data,\"\\n\\n\",request_data)"
   ]
  },
  {
   "cell_type": "code",
   "execution_count": null,
   "metadata": {},
   "outputs": [],
   "source": []
  },
  {
   "attachments": {},
   "cell_type": "markdown",
   "metadata": {},
   "source": []
  },
  {
   "attachments": {},
   "cell_type": "markdown",
   "metadata": {},
   "source": []
  },
  {
   "cell_type": "code",
   "execution_count": null,
   "metadata": {},
   "outputs": [],
   "source": [
    "import numpy as np "
   ]
  },
  {
   "attachments": {},
   "cell_type": "markdown",
   "metadata": {},
   "source": [
    "hallo test push "
   ]
  }
 ],
 "metadata": {
  "kernelspec": {
   "display_name": "Python 3.10.4 ('nlo')",
   "language": "python",
   "name": "python3"
  },
  "language_info": {
   "name": "python",
   "version": "3.10.4 (main, Mar 31 2022, 03:37:37) [Clang 12.0.0 ]"
  },
  "orig_nbformat": 4,
  "vscode": {
   "interpreter": {
    "hash": "e9c0e563aa3481c721acbb4d208e25b46222004717567bbbd29e68a6a7289127"
   }
  }
 },
 "nbformat": 4,
 "nbformat_minor": 2
}
